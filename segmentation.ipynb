{
 "cells": [
  {
   "cell_type": "markdown",
   "metadata": {},
   "source": [
    "# Projects in data science: Segmentation"
   ]
  },
  {
   "cell_type": "markdown",
   "metadata": {},
   "source": [
    "Help for some exercises can be found in notebooks seen during class:\n",
    "* https://colab.research.google.com/drive/1kE5S3ANwKueksDljVlzTCSi8XfufclSW?usp=sharing for segmentation with shape\n",
    "* https://colab.research.google.com/drive/1VxD0K_VDy00oU44mHVXlOtiNc1ekU0X_?usp=sharing for segmentation with classification"
   ]
  },
  {
   "cell_type": "markdown",
   "metadata": {},
   "source": [
    "## Segmentation evaluation"
   ]
  },
  {
   "cell_type": "markdown",
   "metadata": {},
   "source": [
    "**Exercises**:\n",
    "1. Load an image and its mask\n",
    "2. Investigate 2-3 [thresholding](https://scikit-image.org/docs/stable/api/skimage.filters.html) or [segmentation](https://scikit-image.org/docs/stable/api/skimage.segmentation.html) methods from scikit-image to predict masks for you image.\n",
    "3. For each method, create a predicted mask, calculate the Dice score between the prediction and ground-truth mask. Visualize the results and see if the ranking by Dice score, corresponds with your intuition.\n",
    "4. Combine the results of different segmentation methods into a single prediction. Does this give a better score than the methods individually?"
   ]
  },
  {
   "cell_type": "code",
   "execution_count": 1,
   "metadata": {},
   "outputs": [],
   "source": [
    "#Your answer"
   ]
  },
  {
   "cell_type": "markdown",
   "metadata": {},
   "source": [
    "**Your comments**:"
   ]
  },
  {
   "cell_type": "markdown",
   "metadata": {},
   "source": [
    "## Gaussian blur"
   ]
  },
  {
   "cell_type": "markdown",
   "metadata": {},
   "source": [
    "**Exercises**:\n",
    "1. Load an image and [convert it to grayscale](https://scikit-image.org/docs/stable/auto_examples/color_exposure/plot_rgb_to_gray.html) or select only one channel\n",
    "2. Use [sklearn.filters.gaussian](https://scikit-image.org/docs/stable/api/skimage.filters.html#skimage.filters.gaussian) to blur the image, with different values of sigma. View the result, and a patch of 5x5 pixel values at the center of the image- do they change as you expect?\n",
    "3. Resize the image to 25% of its original size, and do the same blurring as you did above. Is the effect of each sigma the same as before?\n",
    "4. Now look at how a 5x5 patch of pixels in the corner of the image has changed - is this what you would expect?\n",
    "5. Investigate, using one of the function parameter, how you can blur the image only in the x, or only in the y-direction.\n",
    "6. What happens if you do not convert the image to grayscale?"
   ]
  },
  {
   "cell_type": "code",
   "execution_count": 2,
   "metadata": {},
   "outputs": [],
   "source": [
    "#Your answer"
   ]
  },
  {
   "cell_type": "markdown",
   "metadata": {},
   "source": [
    "**Your comments**:"
   ]
  },
  {
   "cell_type": "markdown",
   "metadata": {},
   "source": [
    "## Edge Filtering"
   ]
  },
  {
   "cell_type": "markdown",
   "metadata": {},
   "source": [
    "**Exercises**:\n",
    "1. Load an example image, you can use the grayscale or RGB version, or filter different channels with different filters.\n",
    "2. Investigate edge filtering from skimage, [you can find some examples here](https://scikit-image.org/docs/stable/auto_examples/edges/plot_edge_filter.html).\n"
   ]
  },
  {
   "cell_type": "code",
   "execution_count": 3,
   "metadata": {},
   "outputs": [],
   "source": [
    "#Your answer"
   ]
  },
  {
   "cell_type": "markdown",
   "metadata": {},
   "source": [
    "**Your comments**:"
   ]
  },
  {
   "cell_type": "markdown",
   "metadata": {},
   "source": [
    "## Classification"
   ]
  },
  {
   "cell_type": "markdown",
   "metadata": {},
   "source": [
    "**Exercises**:\n",
    "1. Load an image and its mask\n",
    "2. Apply a total of 5-10 filters from previous exercises, consisting of blurring filters (with different sigmas) and edge filters.\n",
    "3. Create a dataset where each data point in **X** consist of the values of each filter for a pixel and **Y** is the pixel's class in the mask\n",
    "4. Train a k-NN classifier on this dataset, and apply the classifier on a different image. Remember, you need to also filter/transform this image.\n",
    "5. Use the dice score to compare the result of the k-NN classifier with the real mask. Does it match your expectation?"
   ]
  },
  {
   "cell_type": "code",
   "execution_count": 4,
   "metadata": {},
   "outputs": [],
   "source": [
    "#Your answer"
   ]
  },
  {
   "cell_type": "markdown",
   "metadata": {},
   "source": [
    "**Your comments**:"
   ]
  }
 ],
 "metadata": {
  "kernelspec": {
   "display_name": "FYP",
   "language": "python",
   "name": "python3"
  },
  "language_info": {
   "codemirror_mode": {
    "name": "ipython",
    "version": 3
   },
   "file_extension": ".py",
   "mimetype": "text/x-python",
   "name": "python",
   "nbconvert_exporter": "python",
   "pygments_lexer": "ipython3",
   "version": "3.12.0"
  }
 },
 "nbformat": 4,
 "nbformat_minor": 2
}
