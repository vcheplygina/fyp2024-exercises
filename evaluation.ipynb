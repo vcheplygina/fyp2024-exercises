{
 "cells": [
  {
   "cell_type": "markdown",
   "metadata": {},
   "source": [
    "# Projects in data science: Evaluation"
   ]
  },
  {
   "cell_type": "markdown",
   "metadata": {},
   "source": [
    "## Create a simple dataset for ISIC"
   ]
  },
  {
   "cell_type": "markdown",
   "metadata": {},
   "source": [
    "**Exercises**:\n",
    "1. Clone the following repo: https://github.com/vcheplygina/fyp2022-imaging.git\n",
    "2. [Create a pandas dataframe](https://pandas.pydata.org/docs/reference/api/pandas.read_csv.html) from data/example_ground_truth.csv and features/features.csv\n",
    "3. Only keep columns melanoma, area and perimeter in your dataframe"
   ]
  },
  {
   "cell_type": "code",
   "execution_count": 1,
   "metadata": {},
   "outputs": [],
   "source": [
    "# Your anwser"
   ]
  },
  {
   "cell_type": "markdown",
   "metadata": {},
   "source": [
    "## Train/Test classifiers"
   ]
  },
  {
   "cell_type": "markdown",
   "metadata": {},
   "source": [
    "**Exercises**:\n",
    "1. Use [sklearn’s train_test_split function](https://scikit-learn.org/stable/modules/generated/sklearn.model_selection.train_test_split.html) to split your data frame into a training, validation and test set. You will need to use the function twice. You should now have 3 different variables for the features (x_train,x_val,x_test) and 3 different variables for the labels (y_train,y_val,y_test).\n",
    "2. Import [KNeighborsClassifier](https://scikit-learn.org/stable/modules/generated/sklearn.neighbors.KNeighborsClassifier.html). Fit two different versions with different values of K.\n",
    "3. Get the prediction of both classifiers on the validation set.\n",
    "4. Import [sklearn’s metrics for accuracy and the AUC score](https://scikit-learn.org/stable/modules/classes.html#sklearn-metrics-metrics), and use them to compare the true and the predicted labels of the validation set. [You need to use probabilty for the AUC](https://scikit-learn.org/stable/modules/generated/sklearn.neighbors.KNeighborsClassifier.html#sklearn.neighbors.KNeighborsClassifier.predict_proba). Print the accuracy and AUC score.\n",
    "5. Run the code above again. Do the accuracy/AUC scores change? Investigate the parameters of train_test_split to see how you can add reproducibility to your code.\n"
   ]
  },
  {
   "cell_type": "code",
   "execution_count": 2,
   "metadata": {},
   "outputs": [],
   "source": [
    "# Your answer"
   ]
  },
  {
   "cell_type": "markdown",
   "metadata": {},
   "source": [
    "**Your comments**:"
   ]
  },
  {
   "cell_type": "markdown",
   "metadata": {},
   "source": [
    "## Overfitting"
   ]
  },
  {
   "cell_type": "markdown",
   "metadata": {},
   "source": [
    "**Exercises**:\n",
    "1. Load an articial dataset with 2 features from sklearn, as for example [make_moons](https://scikit-learn.org/stable/modules/generated/sklearn.datasets.make_moons.html#sklearn.datasets.make_moons)\n",
    "2. Train and test some classifiers, [visualize the classifier boundaries in 2D](https://scikit-learn.org/stable/modules/generated/sklearn.inspection.DecisionBoundaryDisplay.html#sklearn.inspection.DecisionBoundaryDisplay.from_estimator), and record the performance on your train and validation sets.\n",
    "3. Add some non-informative features to the data by generating random numbers. Train/evaluate the classifiers again (since you now have more dimensions, you cannot visualize them). You can also do feature selection or other steps here as part of your classifier. Are you able to achieve good performance on the training set, but bad performance on the validation set?\n",
    "4. Create a learning curve by varying the number of samples in your dataset, and plotting the training/validation evaluation metrics, as a function of the training sample size. To get a better idea of the performance, train/evaluate the classifiers multiple times, and plot the mean + standard deviation of the metric (rather than just the average accuracy/AUC)"
   ]
  },
  {
   "cell_type": "code",
   "execution_count": 3,
   "metadata": {},
   "outputs": [],
   "source": [
    "#Your answer"
   ]
  },
  {
   "cell_type": "markdown",
   "metadata": {},
   "source": [
    "**Your comments**:"
   ]
  }
 ],
 "metadata": {
  "kernelspec": {
   "display_name": "FYP",
   "language": "python",
   "name": "python3"
  },
  "language_info": {
   "codemirror_mode": {
    "name": "ipython",
    "version": 3
   },
   "file_extension": ".py",
   "mimetype": "text/x-python",
   "name": "python",
   "nbconvert_exporter": "python",
   "pygments_lexer": "ipython3",
   "version": "3.12.0"
  }
 },
 "nbformat": 4,
 "nbformat_minor": 2
}
