{
 "cells": [
  {
   "cell_type": "markdown",
   "metadata": {},
   "source": [
    "# Projects in data science: Logistic Regression"
   ]
  },
  {
   "cell_type": "markdown",
   "metadata": {},
   "source": [
    "## Predict malignancy of brain tumor\n",
    "**Exercises**:\n",
    "1. Load and visualize data from brain_tumor.csv. You'll have to reshape X into a column vector with .reshape(-1,1) from numpy\n",
    "2. Fit a logistic regression [from sklearn library](https://scikit-learn.org/stable/modules/generated/sklearn.linear_model.LogisticRegression.html). Plot the probability function.\n",
    "3. Predict whether a tumor of size 3.46mm and a tumor of size 3.6mm will be cancerous."
   ]
  },
  {
   "cell_type": "code",
   "execution_count": null,
   "metadata": {},
   "outputs": [],
   "source": [
    "#Your answer"
   ]
  },
  {
   "cell_type": "markdown",
   "metadata": {},
   "source": [
    "**Your comments**:"
   ]
  },
  {
   "cell_type": "markdown",
   "metadata": {},
   "source": [
    "## Palmer Penguins classification\n",
    "We will use the Palmer Penguins dataset to fit a logistic regression using first 2 features and then all the features."
   ]
  },
  {
   "cell_type": "markdown",
   "metadata": {},
   "source": [
    "### Load and prepare the data"
   ]
  },
  {
   "cell_type": "code",
   "execution_count": null,
   "metadata": {},
   "outputs": [],
   "source": [
    "import pandas as pd\n",
    "import numpy as np\n",
    "from sklearn.preprocessing import StandardScaler\n",
    "\n",
    "p2data = 'https://raw.githubusercontent.com/allisonhorst/palmerpenguins/1a19e36ba583887a4630b1f821e3a53d5a4ffb76/data-raw/penguins_raw.csv'\n",
    "penguins_raw = pd.read_csv(p2data)\n",
    "columns_of_interest = [\"Culmen Length (mm)\", \"Culmen Depth (mm)\", \n",
    "                       \"Flipper Length (mm)\", \"Body Mass (g)\", \"Sex\"]\n",
    "#Only keep interesting information\n",
    "penguins_df = penguins_raw[columns_of_interest]\n",
    "#Remove missing informations\n",
    "penguins_df=penguins_df.replace(\".\", np.nan)\n",
    "penguins_df=penguins_df.dropna()\n",
    "penguins_df.head()\n",
    "\n",
    "#Our features\n",
    "penguins_data=penguins_df.select_dtypes(np.number)\n",
    "\n",
    "#Our target\n",
    "sex = penguins_df.Sex.tolist()\n",
    "#Transform into a [0,1] vector\n",
    "sex = [0 if y =='MALE' else 1 for y in sex]\n",
    "scaler = StandardScaler()\n",
    "penguins_data_scaled = scaler.fit_transform(penguins_data)"
   ]
  },
  {
   "cell_type": "markdown",
   "metadata": {},
   "source": [
    "**Exercises:**\n",
    "1. Split your data into a train and test set\n",
    "2. Fit a logistic regression on the train set using the first 2 columns (\"Culmen Length (mm)\" and \"Culmen Depth (mm)\")\n",
    "3. [Plot the decision boundaries for 2 features](https://stackoverflow.com/a/28257799)\n",
    "4. Fit a logistic regression using all the features\n",
    "5. Compute prediction on the test set"
   ]
  },
  {
   "cell_type": "code",
   "execution_count": null,
   "metadata": {},
   "outputs": [],
   "source": []
  },
  {
   "cell_type": "markdown",
   "metadata": {},
   "source": [
    "**Your comments:**"
   ]
  },
  {
   "cell_type": "markdown",
   "metadata": {},
   "source": [
    "## Implement the logistic regression (bonus)\n",
    "We will implement logistic regression to classify iris plants"
   ]
  },
  {
   "cell_type": "markdown",
   "metadata": {},
   "source": [
    "**Exercises**:\n",
    "1. [Load the iris dataset from sklearn](https://scikit-learn.org/stable/auto_examples/datasets/plot_iris_dataset.html)\n",
    "2. Select two classes to create a binary classification problem\n",
    "3. Split the dataset into a training and a testing set\n",
    "4. Initialize weights (w) and bias (b) at 0\n",
    "5. Implement the sigmoid function\n",
    "6. In function `model_optimize`: implement a function that computes the cost and gradients\n",
    "7. In function `fit` : implement the function to update the weights\n",
    "8. Fit your model with the training set and compute the prediction on the test set "
   ]
  },
  {
   "cell_type": "code",
   "execution_count": null,
   "metadata": {},
   "outputs": [],
   "source": [
    "#Your answer\n",
    "#1\n",
    "from sklearn import datasets\n",
    "iris = datasets.load_iris()\n",
    "\n",
    "#4-6\n",
    "class MyLogisticRegression():\n",
    "    def __init__(self) -> None:\n",
    "        #initialize attribute usable in all functions of the class\n",
    "        self.w = None\n",
    "        self.b = None\n",
    "    \n",
    "    #4\n",
    "    def weight_init(self,n_features):\n",
    "        self.w = #TODO question 4\n",
    "        self.b = #TODO question 4\n",
    "    #4\n",
    "    def sigmoid(self,value):\n",
    "        \n",
    "        return #TODO question 5\n",
    "    \n",
    "    #TODO question 6\n",
    "    def model_optimize(self,X,y):\n",
    "        #Number of data point\n",
    "        m = X.shape[0]\n",
    "        y_T = y.T\n",
    "\n",
    "        #Predict\n",
    "        \n",
    "        #Compute cost function\n",
    "\n",
    "        #Compute gradients\n",
    "\n",
    "        return cost,grads\n",
    "\n",
    "    \n",
    "    def fit(self,X,y,nb_iteration,learning_rate):\n",
    "        for n in range(nb_iteration):\n",
    "            #Get gradients and costs\n",
    "            cost,grads = self.model_optimize(X,y)\n",
    "            grad_w = grads[0]\n",
    "            grad_b = grads[1]\n",
    "\n",
    "            self.w = #TODO question 7\n",
    "            self.b = #TODO question 7\n",
    "\n",
    "\n",
    "    #TODO for prediction\n",
    "    def predict_proba(self,values):\n",
    "        \n",
    "        return sigmoid_result\n",
    "\n",
    "    def predict(self,values):\n",
    "        preds = []\n",
    "        probas = self.predict_proba(values)\n",
    "        for proba in probas[0]:\n",
    "            if proba > 0.5:\n",
    "                preds.append(1)\n",
    "            else:\n",
    "                preds.append(0)\n",
    "        return preds\n"
   ]
  },
  {
   "cell_type": "markdown",
   "metadata": {},
   "source": [
    "**Your comments**:"
   ]
  }
 ],
 "metadata": {
  "kernelspec": {
   "display_name": "FYP",
   "language": "python",
   "name": "python3"
  },
  "language_info": {
   "codemirror_mode": {
    "name": "ipython",
    "version": 3
   },
   "file_extension": ".py",
   "mimetype": "text/x-python",
   "name": "python",
   "nbconvert_exporter": "python",
   "pygments_lexer": "ipython3",
   "version": "3.12.0"
  }
 },
 "nbformat": 4,
 "nbformat_minor": 2
}
