{
 "cells": [
  {
   "cell_type": "markdown",
   "metadata": {},
   "source": [
    "# Projects in data science: Features"
   ]
  },
  {
   "cell_type": "markdown",
   "metadata": {},
   "source": [
    "Help for some exercises can be found in the notebook seen during class: https://colab.research.google.com/drive/1yJlXBwwAgGljolCATrn5h5BFBVAeImaU?usp=sharing"
   ]
  },
  {
   "cell_type": "markdown",
   "metadata": {},
   "source": [
    "## Measuring area and perimeter"
   ]
  },
  {
   "cell_type": "markdown",
   "metadata": {},
   "source": [
    "**Exercises**:\n",
    "1. Create an empty mask that has a large circle in the middle (for example diameter 100 pixels). You could use the code for [Active Contour](https://colab.research.google.com/drive/1kE5S3ANwKueksDljVlzTCSi8XfufclSW?usp=sharing) or a [structural element](https://scikit-image.org/docs/stable/auto_examples/numpy_operations/plot_structuring_elements.html)\n",
    "2. Use mathematical formulas to calculate what you would expect the area and perimeter of the circle to be, based on its diameter.\n",
    "3. Now measure the area and perimeter of the circle you created using the mask. Do you get the same results? Why/why not?\n",
    "4. Vary the structural element you used for eroding the mask, how does its size/shape affect the perimeter measurement?\n",
    "5. Calculate the compactness of the circle based on the mask-based area and perimeter. Is the value what you would expect?\n",
    "6. Now vary the size of the circle, measure area/perimeter again, and look at the compactness value. What happens?"
   ]
  },
  {
   "cell_type": "code",
   "execution_count": 1,
   "metadata": {},
   "outputs": [],
   "source": [
    "#Your answer"
   ]
  },
  {
   "cell_type": "markdown",
   "metadata": {},
   "source": [
    "**Your comments**:"
   ]
  },
  {
   "cell_type": "markdown",
   "metadata": {},
   "source": [
    "## Measuring color"
   ]
  },
  {
   "cell_type": "markdown",
   "metadata": {},
   "source": [
    "**Exercises**:\n",
    "1. Calculate the average RGB value of the pixels inside the lesion. Now create a copy of the original image, and replace each lesion pixel by the average RGB value. Is this new image a good reflection of the original (would you describe the color as the same)?\n",
    "2. Experiment with different parameters of the [SLIC segmentation](https://scikit-image.org/docs/dev/api/skimage.segmentation.html#skimage.segmentation.slic), so that you get multiple segments inside the lesion. Now create a copy, and replace each lesion pixel by the average value inside its segment.\n",
    "3. Try the above with different images, what do you see about the number of segments inside the lesion, and their size? Based on this, how could you design one or more color features to describe the image (with a fixed length representation)?"
   ]
  },
  {
   "cell_type": "code",
   "execution_count": 2,
   "metadata": {},
   "outputs": [],
   "source": [
    "#Your answer"
   ]
  },
  {
   "cell_type": "markdown",
   "metadata": {},
   "source": [
    "**Your comments**:"
   ]
  }
 ],
 "metadata": {
  "kernelspec": {
   "display_name": "FYP",
   "language": "python",
   "name": "python3"
  },
  "language_info": {
   "codemirror_mode": {
    "name": "ipython",
    "version": 3
   },
   "file_extension": ".py",
   "mimetype": "text/x-python",
   "name": "python",
   "nbconvert_exporter": "python",
   "pygments_lexer": "ipython3",
   "version": "3.12.0"
  }
 },
 "nbformat": 4,
 "nbformat_minor": 2
}
